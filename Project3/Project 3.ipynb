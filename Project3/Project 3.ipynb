{
 "cells": [
  {
   "cell_type": "code",
   "execution_count": 1,
   "metadata": {},
   "outputs": [
    {
     "name": "stdout",
     "output_type": "stream",
     "text": [
      "3000\n"
     ]
    }
   ],
   "source": [
    "import hashlib\n",
    "import json\n",
    "import math\n",
    "import os\n",
    "import random\n",
    "# You may NOT alter the import list!!!!\n",
    "import sys\n",
    "print (sys.getrecursionlimit())"
   ]
  },
  {
   "cell_type": "code",
   "execution_count": 17,
   "metadata": {},
   "outputs": [
    {
     "name": "stdout",
     "output_type": "stream",
     "text": [
      "0x9d20b02c627f60f82f2fe07b956c3ca\n",
      "0b1101011010101110011010111100010100101001010000001100011100000100000100110001110111011101001101011011100101101110100110010000110100000010111000110111110011101010000001010111101110100100100111101010010101101001000011101110000000100001000001011110000101111110110010001110011101111011010101001101101111100010110111110010100011011011001101110101011111010011010111101000000101101101111101001010010101110010010000110011011101111110111001001000110000111011110000010001101111011111110011100010001100111011111111000000010010000000101011110010010010010011111011000001101110111101101100110000101111000000001011001001110100101110110000110001100010111101011101111000110110101001110001100010000100011010100111101111110000101111010110101001000110000000101010111001011110001100001011011111101011101111110000110010001001110111000111111110101101111110000000011010101010001001010110101000101111110101011111111000011001010111100011011100011000101011111100101111100001010101010010101010010010100001111000110101101001100001000011001111100010001111\n"
     ]
    },
    {
     "data": {
      "text/plain": [
       "('0x8d117f2e5deb5f09b599f8732df4ec8f81d1af838e3f3e859235b34254c5d8b44de982d743e885f24e3a190cc1876678d4929d32d4bcc7af683a26f6b857bd2658229570324e40d950235d9f2265ef4b90744ff8b9fb7e502857bbae7a30d75743cad23b1d5bd96109a26094116c2013c5db92d2c715aeee5208f093392f2fea',\n",
       " 'be729fbeb59825c8cc22fe7255b71e5123f320cdb65987a197884b98')"
      ]
     },
     "execution_count": 17,
     "metadata": {},
     "output_type": "execute_result"
    }
   ],
   "source": [
    "class CryptoProject(object):\n",
    "\n",
    "    def __init__(self):\n",
    "        # TODO: Change this to YOUR Georgia Tech student ID!!!\n",
    "        # Note that this is NOT your 9-digit Georgia Tech ID\n",
    "        self.student_id = 'bdornier3' #'dgoodrick3'\n",
    "\n",
    "    def get_student_id_hash(self):\n",
    "        return hashlib.sha224(self.student_id.encode('UTF-8')).hexdigest()\n",
    "\n",
    "    def get_all_data_from_json(self, filename):\n",
    "        data = None\n",
    "#         base_dir = os.path.abspath(os.path.dirname(__file__))\n",
    "#         with open(os.path.join(base_dir, filename), 'r') as f:\n",
    "#             data = json.load(f)\n",
    "#         return data\n",
    "        base_dir = os.getcwd()\n",
    "        with open(os.path.join(base_dir, filename), 'r') as f:\n",
    "            data = json.load(f)\n",
    "        return data\n",
    "\n",
    "    def get_data_from_json_for_student(self, filename):\n",
    "        data = self.get_all_data_from_json(filename)\n",
    "        name = self.get_student_id_hash()\n",
    "        if name not in data:\n",
    "            print(self.student_id + ' not in file ' + filename)\n",
    "            return None\n",
    "        else:\n",
    "            return data[name]\n",
    "\n",
    "    # TODO: OPTIONAL - Add helper functions below\n",
    "    # BEGIN HELPER FUNCTIONS\n",
    "        \n",
    "    def extendedEuclidian(self, e, tot_n):\n",
    "        #https://en.wikibooks.org/wiki/Algorithm_Implementation/Mathematics/Extended_Euclidean_algorithm#Python\n",
    "        if e == 0:\n",
    "            #Stop once the remainder of big%small is 0\n",
    "            #big is the GCD\n",
    "            return (tot_n, 0, 1)\n",
    "        else:\n",
    "            #break down the multiples by dividing the previous big number by it's remainder\n",
    "            gcd, k, a = self.extendedEuclidian(tot_n % e, e)\n",
    "            # substitute back in k and multiples of N to get d=a-k(N//rem)\n",
    "            return gcd, a - k*(tot_n // e), k\n",
    "        \n",
    "    def mod_inv(self,e, tot_n):\n",
    "        #https://en.wikibooks.org/wiki/Algorithm_Implementation/Mathematics/Extended_Euclidean_algorithm#Python\n",
    "        gcd,raw,_ = self.extendedEuclidian(e, tot_n)\n",
    "        if gcd==1:  #GCD must be one or there is no solution\n",
    "            return raw%tot_n #ensures the result is positive\n",
    "        return 'NaN'\n",
    "    \n",
    "    def binarySearch(self,val):\n",
    "        # https://rosettacode.org/wiki/Binary_search#Python:_Iterative\n",
    "        lower=0\n",
    "        upper = val\n",
    "        while lower < upper:\n",
    "            mid = (lower+upper)//2\n",
    "            if mid**3 < val:\n",
    "                lower = mid+1\n",
    "            else:\n",
    "                upper = mid\n",
    "        return lower\n",
    "    \n",
    "    # END HELPER FUNCTIONS\n",
    "\n",
    "    def decrypt_message(self, N, e, d, c):\n",
    "        # https://en.wikipedia.org/wiki/RSA_(cryptosystem)\n",
    "        return hex(pow(c,d,N))\n",
    "\n",
    "    def crack_password_hash(self, password_hash, weak_password_list):\n",
    "        password = 'abc'\n",
    "        salt = '123'\n",
    "        for password in weak_password_list:\n",
    "            for salt in weak_password_list:\n",
    "                hashed_password = hashlib.sha256(password.encode() + salt.encode()).hexdigest()\n",
    "                if hashed_password == password_hash:\n",
    "                    print(\"PWD:\", password, \"Salt:\", salt)\n",
    "                    return password, salt\n",
    "        \n",
    "        return \"not found\"\n",
    "\n",
    "    def get_factors(self, n):\n",
    "        #check all odd values > sqrt(n) because p or q must be > Sqrt(n)  \n",
    "        start = 2*(n**.5//2)-1\n",
    "        for i in range(int(start),n,2):\n",
    "            if n%i == 0:\n",
    "                return i, n//i\n",
    "        return 'NaN', 'NaN'\n",
    "\n",
    "    def get_private_key_from_p_q_e(self, p, q, e):\n",
    "        # TODO: Implement this function for Task 3\n",
    "        # e*d≡1 mod ϕ(N) \n",
    "        # ϕ(N)=ϕ(p)ϕ(q)=(p−1)(q−1)\n",
    "        # extendedEuclidian takes ϕ(N) and e and returns d such that ed+kϕ(N)=1  \n",
    "        tot = (p-1)*(q-1)\n",
    "        return self.mod_inv(e, tot)\n",
    "        \n",
    "    def is_waldo(self, n1, n2):\n",
    "        # TODO: Implement this function for Task 4\n",
    "        '''The greatest common divisor (GCD) of two 1024-bit integers\n",
    "            can be computed in microseconds. Find two distinct RSA moduli \n",
    "            N1 and N2 that share a prime factor...'''\n",
    "        if math.gcd(n1,n2) != 1:\n",
    "            return True\n",
    "        else:\n",
    "            return False\n",
    "\n",
    "    def get_private_key_from_n1_n2_e(self, n1, n2, e):\n",
    "        # TODO: Implement this function for Task 4\n",
    "        # assumption: n1 and n2 share a common factor\n",
    "        # The GCD of N1 and N2 is p        \n",
    "        p = math.gcd(n1, n2)\n",
    "        # n2/p = q2 but we only want the private key, d, of n1 so q2 doesn't matter \n",
    "        q = n1//p\n",
    "        tot = (p-1)*(q-1)\n",
    "        #private key d satisfies de = 1 mod (p-1)(q-1):\n",
    "        return self.mod_inv(e, tot )\n",
    "        \n",
    "\n",
    "    def recover_msg(self, N1, N2, N3, C1, C2, C3):\n",
    "        # TODO: Implement this function for Task 5\n",
    "        C = [C1, C2, C3]\n",
    "        N = [N1,N2, N3]\n",
    "        #find the n that doesn't include Ni\n",
    "        n = [N2*N3,N1*N3,N1*N2]# I could have used [pN/N1, pN/N2, pN/N3]\n",
    "        x = [self.mod_inv(n[i],N[i]) for i in range(len(C))]\n",
    "        c = [n[i]*C[i]*x[i] for i in range(len(C))]\n",
    "        s = sum(c)\n",
    "        pN =N1*N2*N3\n",
    "        ans = s%pN\n",
    "        return self.binarySearch(ans)       \n",
    "\n",
    "    def task_1(self):\n",
    "        data = self.get_data_from_json_for_student('keys4student_task_1.json')\n",
    "        N = int(data['N'], 16)\n",
    "        e = int(data['e'], 16)\n",
    "        d = int(data['d'], 16)\n",
    "        c = int(data['c'], 16)\n",
    "        self.data = data\n",
    "        m = self.decrypt_message(N, e, d, c)\n",
    "        return m\n",
    "\n",
    "    def task_2(self):\n",
    "        data = self.get_data_from_json_for_student('hashes4student_task_2.json')\n",
    "        password_hash = data['password_hash']\n",
    "        self.data = data\n",
    "\n",
    "        # The password file is loaded as a convenience\n",
    "        weak_password_list = []\n",
    "#         base_dir = os.path.abspath(os.path.dirname(__file__))\n",
    "        base_dir = os.getcwd()\n",
    "        with open(os.path.join(base_dir, 'top_passwords.txt'), 'r', encoding='UTF-8-SIG') as f:\n",
    "            pw = f.readline()\n",
    "            while pw:\n",
    "                weak_password_list.append(pw.strip('\\n'))\n",
    "                pw = f.readline()\n",
    "        self.ph = password_hash\n",
    "        self.wp = weak_password_list\n",
    "        password, salt = self.crack_password_hash(password_hash, weak_password_list)\n",
    "\n",
    "        return password, salt\n",
    "\n",
    "    def task_3(self):\n",
    "        data = self.get_data_from_json_for_student('keys4student_task_3.json')\n",
    "        n = int(data['N'], 16)\n",
    "        e = int(data['e'], 16)\n",
    "\n",
    "        p, q = self.get_factors(n)\n",
    "        d = self.get_private_key_from_p_q_e(p, q, e)\n",
    "\n",
    "        return hex(d).rstrip('L')\n",
    "\n",
    "    def task_4(self):\n",
    "        all_data = self.get_all_data_from_json('keys4student_task_4.json')\n",
    "        student_data = self.get_data_from_json_for_student('keys4student_task_4.json')\n",
    "        n1 = int(student_data['N'], 16)\n",
    "        e = int(student_data['e'], 16)\n",
    "\n",
    "        d = 0\n",
    "        waldo = 'Dolores'\n",
    "\n",
    "        for classmate in all_data:\n",
    "            if classmate == self.get_student_id_hash():\n",
    "                continue\n",
    "            n2 = int(all_data[classmate]['N'], 16)\n",
    "\n",
    "            if self.is_waldo(n1, n2):\n",
    "                waldo = classmate\n",
    "                print(bin(n2))\n",
    "                d = self.get_private_key_from_n1_n2_e(n1, n2, e)\n",
    "                break\n",
    "\n",
    "        return hex(d).rstrip(\"L\"), waldo\n",
    "\n",
    "    def task_5(self):\n",
    "        data = self.get_data_from_json_for_student('keys4student_task_5.json')\n",
    "        N1 = int(data['N0'], 16)\n",
    "        N2 = int(data['N1'], 16)\n",
    "        N3 = int(data['N2'], 16)\n",
    "        C1 = int(data['C0'], 16)\n",
    "        C2 = int(data['C1'], 16)\n",
    "        C3 = int(data['C2'], 16)\n",
    "        \n",
    "        m = self.recover_msg(N1, N2, N3, C1, C2, C3)\n",
    "        # Convert the int to a message string\n",
    "        msg = bytes.fromhex(hex(m).rstrip('L')[2:]).decode('UTF-8')\n",
    "\n",
    "        return msg\n",
    "\n",
    "cp = CryptoProject()\n",
    "# m = cp.task_1() # not working\n",
    "print(m)\n",
    "# cp.task_2()\n",
    "# cp.task_3() #not working\n",
    "cp.task_4()\n",
    "# cp.task_5()"
   ]
  },
  {
   "cell_type": "code",
   "execution_count": 10,
   "metadata": {},
   "outputs": [
    {
     "data": {
      "text/plain": [
       "3"
      ]
     },
     "execution_count": 10,
     "metadata": {},
     "output_type": "execute_result"
    }
   ],
   "source": [
    "classmate = 0xbf99be2fa248e1165ee56977b87edff43fdebeaeb2a40e615529b5900d890d1f35b97b565a455a7c41625c6d164c97d1201421af96fdedb6aafbf0bc2eb02b9449c4d6f1ea0312bba156e93b0ffc943263632b9c64ef0317b5171aecbf5b2a8f86b4e122d78238a688702dbac2400973558b40e1f1d269393b16b444380ca339\n",
    "result =    0xb38a5359b6bc7f29a5ea53f6100a214d74f17bf7d5028555cf22bfea02014c2f5bc09abec1e1ada08bb725bf2911ab5e24a94eb0f43b7c1e84ddfa61637670e61e644b7ea626ccfcf5c099671bb58916e4a89f8549a8a416f480b69b1a113882f01f7b8c736ebbf407d2fd6e24c43cd3bc461e7840254ebe5789d7e25966ff61"
   ]
  },
  {
   "cell_type": "code",
   "execution_count": 24,
   "metadata": {},
   "outputs": [
    {
     "name": "stdout",
     "output_type": "stream",
     "text": [
      "63565808541420448412430171070546645478172386150469462666668095536137015904412530106641137012372017537979886925528387588929766525471360619743458548080484492007256100865858604086079351466395089834165121334424462243264705910681062354228078574379032911081312479121820094335798164909243317424541035613941625366971 70918679732377196019344620845676823322168534514770607168970605761957101256767669419281024102348237680437998991210648158102105831266069141892759852335213840930332905751163226349596999146056408612079294811947516145272958750714633968390148042454851667743166956582520732813365385414324863968320647903549867569589 11940315421582380814173394175512118320424158588800159514394213541181972018691721370490773257224059438234561720552742984703130973709953159849110129949652385437789479783322335977555230341856965277211576631181115829259769208412614052479352221755336223324913293099154076208577521349807110457236148262787314489169\n",
      "56473485864116499933498941031021072025403407518531551886869341244962833014478429155805990281615194393958068329979388984301071861512073226412390523020410999537294666057386202429875661816344398044078232140726413501976424222289979038240501358755421996937867353549048067312509883133116659406516182685678817551642260043274301329772622373617826589415314188729402784597735028764030575113923499941365053552483353414051957644567352656933760864942811424396526011912282027196673611016114416664718393937824519781035940460133835914979100363109464189564621758792546088425313597240803466064218291282141862876006973333121811170243071\n"
     ]
    },
    {
     "data": {
      "text/plain": [
       "24.999999999999996"
      ]
     },
     "execution_count": 24,
     "metadata": {},
     "output_type": "execute_result"
    }
   ],
   "source": [
    "# e = 3\n",
    "# N1 = 629\n",
    "# N2 = 2173\n",
    "# N3 = 1159\n",
    "\n",
    "# C1 = 529\n",
    "# C2 = 414\n",
    "# C3 = 558\n",
    "#find c = C1 mod N1 and C2 mod N2 and C3 mod N3\n",
    "    #C1 part   #c2 part   C3 part\n",
    "x = N2*N3     + N1*N3    + N1*N2\n",
    "print(x%C1, x%C2, x%C3)\n",
    "#C1 = m^3 mod N1 => C1%N1 = M^3\n",
    "print (x)\n",
    "# N2*N3*?*C1 = C1%N1\n",
    "# N1*N3*?*C2 = C2%N2\n",
    "# N1*N2*?*C3 = C3%N3\n",
    "2173+1159+559+529+629+1159+1603+414+629+2173+433+558\n",
    "# 629*2173*1159\n",
    "15625%(629*2173*1159)\n",
    "15625**(1/3.)"
   ]
  },
  {
   "cell_type": "code",
   "execution_count": 60,
   "metadata": {},
   "outputs": [
    {
     "data": {
      "text/plain": [
       "2"
      ]
     },
     "execution_count": 60,
     "metadata": {},
     "output_type": "execute_result"
    }
   ],
   "source": [
    "cp.mod_inv(20,3)\n"
   ]
  },
  {
   "cell_type": "code",
   "execution_count": 18,
   "metadata": {},
   "outputs": [
    {
     "name": "stdout",
     "output_type": "stream",
     "text": [
      "1584140903\n",
      "[2518507.0, 729011.0, 1366817.0]\n",
      "[559.0, 1603.0, 433.0]\n",
      "[744750223477.0, 483802318062.0, 330242122638.0]\n",
      "1558794664177.0\n",
      "15625.0\n",
      "25\n"
     ]
    }
   ],
   "source": [
    "# c* = ci mod (Ni)\n",
    "import numpy as np\n",
    "C = [C1, C2, C3]\n",
    "N = [629,2173, 1159]\n",
    "pN = np.product(N)\n",
    "print(pN)\n",
    "n = [pN/N[i] for i in range(len(C))]\n",
    "print(n)\n",
    "x = [cp.mod_inv(n[i],N[i]) for i in range(len(C))]\n",
    "print (x)\n",
    "c = [n[i]*C[i]*x[i] for i in range(len(C))]\n",
    "print(c)\n",
    "s = np.sum(c)\n",
    "print(s)\n",
    "ans = s%pN\n",
    "print(ans)\n",
    "m = ans**(1/3.)\n",
    "print (int(m+1))"
   ]
  },
  {
   "cell_type": "code",
   "execution_count": 33,
   "metadata": {},
   "outputs": [
    {
     "data": {
      "text/plain": [
       "136930068973653733934777066324453098441146702243411312246442286371085687833685685644990844995326379848961733762072006113203332180727975513509810778191132458974105958777668744713114847383016755797085057088340136249718838574139044758097976389689133689368223161868166930224424740213330847377444126662076830742520"
      ]
     },
     "execution_count": 33,
     "metadata": {},
     "output_type": "execute_result"
    }
   ],
   "source": []
  }
 ],
 "metadata": {
  "kernelspec": {
   "display_name": "Python [conda env:python3]",
   "language": "python",
   "name": "conda-env-python3-py"
  },
  "language_info": {
   "codemirror_mode": {
    "name": "ipython",
    "version": 3
   },
   "file_extension": ".py",
   "mimetype": "text/x-python",
   "name": "python",
   "nbconvert_exporter": "python",
   "pygments_lexer": "ipython3",
   "version": "3.6.4"
  }
 },
 "nbformat": 4,
 "nbformat_minor": 2
}
